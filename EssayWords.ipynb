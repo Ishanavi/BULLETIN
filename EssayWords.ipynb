{
  "nbformat": 4,
  "nbformat_minor": 0,
  "metadata": {
    "colab": {
      "name": "EssayWords.ipynb",
      "provenance": [],
      "authorship_tag": "ABX9TyNgsMIlvxL45RL+AbMMDHJp",
      "include_colab_link": true
    },
    "kernelspec": {
      "name": "python3",
      "display_name": "Python 3"
    },
    "language_info": {
      "name": "python"
    }
  },
  "cells": [
    {
      "cell_type": "markdown",
      "metadata": {
        "id": "view-in-github",
        "colab_type": "text"
      },
      "source": [
        "<a href=\"https://colab.research.google.com/github/Ishanavi/BULLETIN/blob/main/EssayWords.ipynb\" target=\"_parent\"><img src=\"https://colab.research.google.com/assets/colab-badge.svg\" alt=\"Open In Colab\"/></a>"
      ]
    },
    {
      "cell_type": "code",
      "execution_count": null,
      "metadata": {
        "id": "uyVOcK0K6ZMs"
      },
      "outputs": [],
      "source": [
        "def wordCount():\n",
        "  fileName = input('Enter file path')\n",
        "  file = open(fileName,'r')\n",
        "  wordCount = 0;\n",
        "\n",
        "  for line in file:\n",
        "    words = line.split()\n",
        "    wordCount += len(words) \n",
        "\n",
        "  print(\"No of words is \")\n",
        "  print(wordCount)\n",
        "\n",
        "wordCount()"
      ]
    }
  ]
}